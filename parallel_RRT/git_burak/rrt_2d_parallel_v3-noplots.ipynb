{
 "cells": [
  {
   "cell_type": "code",
   "execution_count": 1,
   "metadata": {},
   "outputs": [],
   "source": [
    "\n",
    "import math\n",
    "import numpy as np\n",
    "from numba import cuda\n",
    "from tqdm import tqdm\n",
    "import matplotlib.pyplot as plt"
   ]
  },
  {
   "cell_type": "code",
   "execution_count": 2,
   "metadata": {},
   "outputs": [],
   "source": [
    "TPB = 256 # number of threads in a block\n",
    "\n",
    "# device function_NN\n",
    "@cuda.jit(device=True)\n",
    "def euc_distance_2d_device(x1,y1,x2,y2):\n",
    "    d = math.sqrt((x2-x1)**2+(y2-y1)**2)\n",
    "    return d\n",
    "\n",
    "@cuda.jit()\n",
    "def distanceKernel(d_out,x,y,d_V,nov):\n",
    "    i = cuda.blockIdx.x*cuda.blockDim.x + cuda.threadIdx.x\n",
    "    if i < nov:\n",
    "        d_out[i] = euc_distance_2d_device(x,y,d_V[0,i],d_V[1,i])\n",
    "\n",
    "# wrapper function_NN\n",
    "def dArray(x,y,V,nov):\n",
    "    d_V = cuda.to_device(V) # copies the input data to a device array on the GPU\n",
    "    d_distance = cuda.device_array(nov) # creates an empty array to hold the output\n",
    "    BPG = (nov + TPB - 1)//TPB # computes number of blocks\n",
    "    distanceKernel[BPG,TPB](d_distance,x,y,d_V,nov)\n",
    "    return d_distance.copy_to_host()"
   ]
  },
  {
   "cell_type": "code",
   "execution_count": 3,
   "metadata": {},
   "outputs": [],
   "source": [
    "# kernel for CC\n",
    "@cuda.jit()\n",
    "def ccKernel(d_out,x,y,d_O,all_radii):\n",
    "    i = cuda.blockIdx.x*cuda.blockDim.x + cuda.threadIdx.x\n",
    "    #flag = 1\n",
    "    if i < all_radii.size:# and flag ==1:\n",
    "        d_out[i] = euc_distance_2d_device(x,y,d_O[0,i],d_O[1,i])>all_radii[i] # should be 1 for no collision\n",
    "        # flag = d_out[i]\n",
    "\n",
    "# wrapper function_CC\n",
    "def dArray_CC(x,y,obs_coors,allowable_radii):\n",
    "    noo = allowable_radii.size\n",
    "    d_all_radii = cuda.to_device(allowable_radii) # copies the input data to a device array on the GPU\n",
    "    d_O = cuda.to_device(obs_coors) # copies the input data to a device array on the GPU\n",
    "    d_collision = cuda.device_array(noo) # creates an empty array to hold the output\n",
    "    BPG = (noo + TPB - 1)//TPB # computes number of blocks\n",
    "    ccKernel[BPG,TPB](d_collision,x,y,d_O,d_all_radii)\n",
    "    return d_collision.copy_to_host()"
   ]
  },
  {
   "cell_type": "code",
   "execution_count": 4,
   "metadata": {},
   "outputs": [],
   "source": [
    "def euc_distance_2d(x1,y1,x2,y2):\n",
    "    return np.sqrt((x2-x1)**2+(y2-y1)**2)\n",
    "\n",
    "def nearest_neighbor_2d_parallel(x,y,V,nov):\n",
    "    distance = dArray(x,y,V,nov)\n",
    "    ind_min = np.argmin(distance)\n",
    "    min_dis = distance[ind_min]\n",
    "    return [min_dis,ind_min]\n",
    "\n",
    "def collision_check_parallel(x,y,obstacle_coordinates,obstacle_radii):\n",
    "    allowable_radii = obstacle_radii*2/np.sqrt(3)\n",
    "    flag = 0 # means no collision\n",
    "    if all(dArray_CC(x,y,obstacle_coordinates,allowable_radii)):\n",
    "        flag = 1\n",
    "    return flag\n",
    "\n",
    "def draw_circle(xc,yc,r):\n",
    "    t = np.arange(0,2*np.pi,.05)\n",
    "    x = xc+r*np.sin(t)\n",
    "    y = yc+r*np.cos(t)\n",
    "    plt.plot(x,y,c='blue')"
   ]
  },
  {
   "cell_type": "code",
   "execution_count": 5,
   "metadata": {},
   "outputs": [
    {
     "name": "stderr",
     "output_type": "stream",
     "text": [
      " 10%|█         | 1/10 [00:01<00:12,  1.34s/it]"
     ]
    },
    {
     "name": "stdout",
     "output_type": "stream",
     "text": [
      "No solution has been found for the given maximum number of iterations.\n"
     ]
    },
    {
     "name": "stderr",
     "output_type": "stream",
     "text": [
      " 20%|██        | 2/10 [00:02<00:09,  1.25s/it]"
     ]
    },
    {
     "name": "stdout",
     "output_type": "stream",
     "text": [
      "No solution has been found for the given maximum number of iterations.\n"
     ]
    },
    {
     "name": "stderr",
     "output_type": "stream",
     "text": [
      " 30%|███       | 3/10 [00:03<00:08,  1.19s/it]"
     ]
    },
    {
     "name": "stdout",
     "output_type": "stream",
     "text": [
      "No solution has been found for the given maximum number of iterations.\n"
     ]
    },
    {
     "name": "stderr",
     "output_type": "stream",
     "text": [
      " 40%|████      | 4/10 [00:04<00:06,  1.15s/it]"
     ]
    },
    {
     "name": "stdout",
     "output_type": "stream",
     "text": [
      "No solution has been found for the given maximum number of iterations.\n"
     ]
    },
    {
     "name": "stderr",
     "output_type": "stream",
     "text": [
      " 50%|█████     | 5/10 [00:05<00:05,  1.15s/it]"
     ]
    },
    {
     "name": "stdout",
     "output_type": "stream",
     "text": [
      "No solution has been found for the given maximum number of iterations.\n"
     ]
    },
    {
     "name": "stderr",
     "output_type": "stream",
     "text": [
      " 60%|██████    | 6/10 [00:06<00:04,  1.18s/it]"
     ]
    },
    {
     "name": "stdout",
     "output_type": "stream",
     "text": [
      "No solution has been found for the given maximum number of iterations.\n"
     ]
    },
    {
     "name": "stderr",
     "output_type": "stream",
     "text": [
      " 70%|███████   | 7/10 [00:08<00:03,  1.19s/it]"
     ]
    },
    {
     "name": "stdout",
     "output_type": "stream",
     "text": [
      "No solution has been found for the given maximum number of iterations.\n"
     ]
    },
    {
     "name": "stderr",
     "output_type": "stream",
     "text": [
      " 80%|████████  | 8/10 [00:09<00:02,  1.18s/it]"
     ]
    },
    {
     "name": "stdout",
     "output_type": "stream",
     "text": [
      "No solution has been found for the given maximum number of iterations.\n"
     ]
    },
    {
     "name": "stderr",
     "output_type": "stream",
     "text": [
      " 90%|█████████ | 9/10 [00:10<00:01,  1.14s/it]"
     ]
    },
    {
     "name": "stdout",
     "output_type": "stream",
     "text": [
      "No solution has been found for the given maximum number of iterations.\n"
     ]
    },
    {
     "name": "stderr",
     "output_type": "stream",
     "text": [
      "100%|██████████| 10/10 [00:11<00:00,  1.13s/it]"
     ]
    },
    {
     "name": "stdout",
     "output_type": "stream",
     "text": [
      "No solution has been found for the given maximum number of iterations.\n"
     ]
    },
    {
     "name": "stderr",
     "output_type": "stream",
     "text": [
      "\n"
     ]
    }
   ],
   "source": [
    "\n",
    "def main():\n",
    "    max_iter = 800\n",
    "    epsilon = 1 # step size\n",
    "\n",
    "    flag = 0 # for finding a connectivity path\n",
    "\n",
    "    # initial and goal points/states\n",
    "    x0 = 10\n",
    "    y0 = 10\n",
    "    x_goal = 90\n",
    "    y_goal = 90\n",
    "    #plt.figure(figsize=[10,10])\n",
    "    #plt.scatter([x0,x_goal],[y0,y_goal],c='r',marker=\"P\")\n",
    "\n",
    "    # obstacle info\n",
    "    noo = 16 # no. of obstacles\n",
    "    radius = np.sqrt(3)/2*epsilon\n",
    "    obs_radii = radius*np.ones(noo)\n",
    "    obs_coors = 100*np.random.rand(2,noo) # position of obstacles\n",
    "    for i in range(0,noo):\n",
    "        #draw_circle(obs_coors[0,i],obs_coors[1,i],obs_radii[i])\n",
    "        i=i\n",
    "\n",
    "    if euc_distance_2d(x0,y0,x_goal,y_goal)<epsilon:\n",
    "        flag = 1\n",
    "        #plt.plot([x0,x_goal],[y0,y_goal],c='black')\n",
    "    else:\n",
    "        vertices = np.zeros([2,max_iter+1])\n",
    "        A = -np.ones([max_iter+1,max_iter+1])\n",
    "        vertices[0,0] = x0\n",
    "        vertices[1,0] = y0\n",
    "        A[0,0] = 0\n",
    "\n",
    "    nov = 0 # no. of vertices except the initial one\n",
    "    \n",
    "    i = 0\n",
    "    #for not in range(1:100): # not: no. of trees\n",
    "    while flag==0 and i<max_iter:\n",
    "        i += 1\n",
    "        x_rand= 100*np.random.rand(1)\n",
    "        y_rand= 100*np.random.rand(1)\n",
    "        xy_rand = np.array([x_rand,y_rand]).reshape(2,)\n",
    "        [min_dis,p_near] = nearest_neighbor_2d_parallel(x_rand[0],y_rand[0],vertices,nov+1)\n",
    "        if min_dis<epsilon:\n",
    "            x_new = x_rand\n",
    "            y_new = y_rand\n",
    "        else: # interpolate\n",
    "            r = epsilon/min_dis # ratio\n",
    "            x_new = vertices[0,p_near]+r*(x_rand-vertices[0,p_near])\n",
    "            y_new = vertices[1,p_near]+r*(y_rand-vertices[1,p_near])\n",
    "        if collision_check_parallel(x_new[0],y_new[0],obs_coors,obs_radii):\n",
    "            nov = nov+1\n",
    "            vertices[0,nov] = x_new\n",
    "            vertices[1,nov] = y_new\n",
    "            #plt.scatter(x_new,y_new,c='g')\n",
    "            #plt.plot([vertices[0,p_near],x_new],[vertices[1,p_near],y_new],c='black')\n",
    "            A[nov,:] = A[p_near,:]\n",
    "            A[nov,nov] = nov\n",
    "            if euc_distance_2d(x_new,y_new,x_goal,y_goal)<epsilon:\n",
    "                nov = nov+1\n",
    "                A[nov,:] = A[nov-1,:]\n",
    "                A[nov,nov] = nov\n",
    "                vertices[0,nov] = x_goal\n",
    "                vertices[1,nov] = y_goal\n",
    "                plt.plot([x_new,x_goal],[y_new,y_goal],c='black')\n",
    "                flag = 1\n",
    "    if flag ==1 and nov!=0:\n",
    "        B = np.zeros(nov)\n",
    "        nov_path =0 # no. of vertices on the connectivity path\n",
    "        for i in range(0,nov+1):\n",
    "            if A[nov,i]>-1:\n",
    "                B[nov_path]=A[nov,i]\n",
    "                nov_path += 1\n",
    "        B = B[0:nov_path]\n",
    "        for i in range(0, B.size-1):\n",
    "            flag = 1\n",
    "            #plt.plot([vertices[0,int(B[i])],vertices[0,int(B[i+1])]],[vertices[1,int(B[i])],vertices[1,int(B[i+1])]],c='yellow',linewidth=7,alpha=0.5)\n",
    "    elif flag ==0:\n",
    "        flag = 0\n",
    "        print('No solution has been found for the given maximum number of iterations.')\n",
    "    else:\n",
    "        print('The initial and goal configurations are close enough.')\n",
    "        #plt.plot([x0,x_goal],[y0,y_goal],c='yellow',linewidth=7,alpha=0.5)\n",
    "        # plt.savefig('the_basic.png')\n",
    "\n",
    "for iter in tqdm(range(10)):\n",
    "    main()"
   ]
  },
  {
   "cell_type": "code",
   "execution_count": null,
   "metadata": {},
   "outputs": [],
   "source": []
  }
 ],
 "metadata": {
  "kernelspec": {
   "display_name": "Python 3",
   "language": "python",
   "name": "python3"
  },
  "language_info": {
   "codemirror_mode": {
    "name": "ipython",
    "version": 3
   },
   "file_extension": ".py",
   "mimetype": "text/x-python",
   "name": "python",
   "nbconvert_exporter": "python",
   "pygments_lexer": "ipython3",
   "version": "3.6.5"
  }
 },
 "nbformat": 4,
 "nbformat_minor": 2
}
