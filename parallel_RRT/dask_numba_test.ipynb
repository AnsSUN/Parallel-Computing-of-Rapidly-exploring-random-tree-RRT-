{
 "cells": [
  {
   "cell_type": "code",
   "execution_count": 12,
   "metadata": {},
   "outputs": [],
   "source": [
    "import numpy as np \n",
    "import dask\n",
    "import timeit\n",
    "\n",
    "def predict_over_time(x, y, z, overlay=False):\n",
    "    \"Predicts a quantity at times = 0, 1, ... 14\"\n",
    "    out = np.zeros((x.shape[0], 15))\n",
    "    for t in range(15):\n",
    "        out[:, t] = t * x ** 2 + y - 2 * z - 2 * t\n",
    "    adj = 1.5 if overlay else 1.0\n",
    "    return adj * out"
   ]
  },
  {
   "cell_type": "code",
   "execution_count": 13,
   "metadata": {},
   "outputs": [],
   "source": [
    "from numba import jit\n",
    "\n",
    "\n",
    "@jit\n",
    "def jitted_func(x, y, z, overlay=False):\n",
    "    \"Predicts a quantity at times = 0, 1, ... 14\"\n",
    "    out = np.zeros((x.shape[0], 15))\n",
    "    for t in range(15):\n",
    "        out[:, t] = t * x ** 2 + y - 2 * z - 2 * t\n",
    "    adj = 1.5 if overlay else 1.0\n",
    "    return adj * out"
   ]
  },
  {
   "cell_type": "code",
   "execution_count": 21,
   "metadata": {},
   "outputs": [
    {
     "name": "stdout",
     "output_type": "stream",
     "text": [
      "317 ms ± 6.28 ms per loop (mean ± std. dev. of 7 runs, 1 loop each)\n"
     ]
    }
   ],
   "source": [
    "  \n",
    "# create some artificial inputs\n",
    "n = 25000\n",
    "u = np.random.random(n)\n",
    "x = np.random.poisson(lam=5, size=n)\n",
    "y, z = np.random.normal(size=(n, 2)).T\n",
    "\n",
    "\n",
    "%timeit for n in range(100): _ = predict_over_time(x, y, z) # 100 loops, best of 3: 3.28 ms per loop"
   ]
  },
  {
   "cell_type": "code",
   "execution_count": 22,
   "metadata": {},
   "outputs": [
    {
     "name": "stdout",
     "output_type": "stream",
     "text": [
      "276 ms ± 17 ms per loop (mean ± std. dev. of 7 runs, 1 loop each)\n"
     ]
    }
   ],
   "source": [
    "%timeit for n in range(100):_ = jitted_func(x, y, z) # 100 loops, best of 3: 2.27 ms per loop"
   ]
  },
  {
   "cell_type": "code",
   "execution_count": 23,
   "metadata": {},
   "outputs": [
    {
     "name": "stdout",
     "output_type": "stream",
     "text": [
      "98.7 ms ± 405 µs per loop (mean ± std. dev. of 7 runs, 10 loops each)\n"
     ]
    }
   ],
   "source": [
    "from numba import guvectorize\n",
    "\n",
    "\n",
    "@guvectorize('i8, f8, f8, b1, f8[:], f8[:]',\n",
    "             '(), (), (), (), (s) -> (s)')\n",
    "def fast_predict_over_time(x, y, z, overlay, _, out):\n",
    "    adj = 1.5 if overlay else 1.0\n",
    "    for t in range(len(out)):\n",
    "        out[t] = adj * (t * x ** 2 + y - 2 * z - 2 * t)\n",
    "\n",
    "res = np.zeros((n, 15))\n",
    "\n",
    "%timeit for n in range(100):_ = fast_predict_over_time(x, y, z, False, res) # 100 loops, best of 3: 575 µs per loop"
   ]
  },
  {
   "cell_type": "code",
   "execution_count": 24,
   "metadata": {},
   "outputs": [
    {
     "name": "stdout",
     "output_type": "stream",
     "text": [
      "93.1 ms ± 2.18 ms per loop (mean ± std. dev. of 7 runs, 10 loops each)\n"
     ]
    }
   ],
   "source": [
    "from dask import delayed\n",
    "\n",
    "\n",
    "# won't be evaluated until we call .compute()\n",
    "fast_predict_over_time = delayed(fast_predict_over_time)\n",
    "\n",
    "## using the same numpy arrays from above...\n",
    "\n",
    "%timeit for n in range(100):_ = fast_predict_over_time(x, y, z, False, res).compute()\n",
    "# 100 loops, best of 3: 1.04 ms per loop"
   ]
  },
  {
   "cell_type": "code",
   "execution_count": 26,
   "metadata": {},
   "outputs": [
    {
     "name": "stdout",
     "output_type": "stream",
     "text": [
      "298 ms ± 14.9 ms per loop (mean ± std. dev. of 7 runs, 10 loops each)\n"
     ]
    }
   ],
   "source": [
    "@delayed\n",
    "def predict_another_thing(x, y, z):\n",
    "    # model scoring code goes here\n",
    "    pass\n",
    "\n",
    "\n",
    "@delayed\n",
    "def complicated_feature_b(x, y):\n",
    "    # lets imagine this feature is *very* expensive to create\n",
    "    # and takes a full minute to process\n",
    "    sleep(60); return x * y\n",
    "\n",
    "\n",
    "@delayed\n",
    "def feature_a(u, x):\n",
    "    return 20 * u - x\n",
    "\n",
    "\n",
    "## put our delayed objects into a dictionary for easy access   \n",
    "results = {'feature_a': feature_a(u, x),\n",
    "           'feature_b': complicated_feature_b(x, z)}\n",
    "results['predict_another_thing'] = predict_another_thing(y, x, results['feature_a'])\n",
    "results['no_overlay'] = fast_predict_over_time(x, results['feature_a'], results['feature_b'], False, res)\n",
    "results['w_overlay'] = fast_predict_over_time(x, z, results['feature_a'], True, res)\n",
    "\n",
    "%timeit for n in range(100):_, _ = dask.compute(results['w_overlay'], results['predict_another_thing'])\n",
    "# 100 loops, best of 3: 1.61 ms per loop"
   ]
  },
  {
   "cell_type": "code",
   "execution_count": null,
   "metadata": {},
   "outputs": [],
   "source": []
  }
 ],
 "metadata": {
  "kernelspec": {
   "display_name": "Python 3",
   "language": "python",
   "name": "python3"
  },
  "language_info": {
   "codemirror_mode": {
    "name": "ipython",
    "version": 3
   },
   "file_extension": ".py",
   "mimetype": "text/x-python",
   "name": "python",
   "nbconvert_exporter": "python",
   "pygments_lexer": "ipython3",
   "version": "3.6.5"
  }
 },
 "nbformat": 4,
 "nbformat_minor": 2
}
